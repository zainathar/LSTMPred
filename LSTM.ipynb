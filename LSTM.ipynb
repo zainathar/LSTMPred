{
  "cells": [
    {
      "cell_type": "code",
      "execution_count": null,
      "metadata": {
        "id": "yh-lvJIOhf6M"
      },
      "outputs": [],
      "source": [
        "from google.colab import drive\n",
        "import openpyxl\n",
        "import numpy as np\n"
      ]
    },
    {
      "cell_type": "code",
      "execution_count": null,
      "metadata": {
        "colab": {
          "base_uri": "https://localhost:8080/"
        },
        "id": "_V6XQA0bm-Tt",
        "outputId": "1f9627ad-a15e-43a0-c5e9-dde0e43e82c0"
      },
      "outputs": [
        {
          "output_type": "stream",
          "name": "stdout",
          "text": [
            "Drive already mounted at /content/drive; to attempt to forcibly remount, call drive.mount(\"/content/drive\", force_remount=True).\n"
          ]
        }
      ],
      "source": [
        "#mount drive\n",
        "drive.mount('/content/drive')"
      ]
    },
    {
      "cell_type": "code",
      "execution_count": null,
      "metadata": {
        "id": "Ot3bdHkUnHWT"
      },
      "outputs": [],
      "source": [
        "filename = '/content/drive/My Drive/ExcelFile/File.xlsx'"
      ]
    },
    {
      "cell_type": "code",
      "execution_count": null,
      "metadata": {
        "id": "WNCpEYGNndUO"
      },
      "outputs": [],
      "source": [
        "#ive already added the values in the file\n",
        "workbook = openpyxl.load_workbook(filename)\n",
        "#sheet's name\n",
        "sheet_name = 'Data'\n",
        "sheet = workbook[sheet_name]\n",
        "workbook.save(filename)"
      ]
    },
    {
      "cell_type": "code",
      "execution_count": null,
      "metadata": {
        "colab": {
          "base_uri": "https://localhost:8080/"
        },
        "id": "G_TVukLdngaz",
        "outputId": "84542dea-391a-423a-d95e-51a5f6c05502"
      },
      "outputs": [
        {
          "output_type": "stream",
          "name": "stdout",
          "text": [
            "Values for ft after sigmoid are=  [1. 1. 0.]\n"
          ]
        }
      ],
      "source": [
        "def sig(a):\n",
        " return 1/(1 + np.exp(-a))\n",
        "\n",
        "#forgetGate\n",
        "\n",
        "#this is basically [ht−1, xt]\n",
        "htandxt=np.array([[sheet['B2'].value],[sheet['C2'].value],[sheet['D2'].value],[sheet['B3'].value],[sheet['C3'].value],[sheet['D3'].value]])\n",
        "#transposehtandxt= np.transpose(htandxt)\n",
        "htandxt=htandxt.T\n",
        "#getting weights into an array\n",
        "wf1= np.array([[sheet['B4'].value], [sheet['C4'].value], [sheet['D4'].value], [sheet['E4'].value], [sheet['F4'].value], [sheet['G4'].value]])\n",
        "wf2= np.array([[sheet['B5'].value], [sheet['C5'].value], [sheet['D5'].value], [sheet['E5'].value], [sheet['F5'].value], [sheet['G5'].value]])\n",
        "wf3= np.array([[sheet['B6'].value], [sheet['C6'].value], [sheet['D6'].value], [sheet['E6'].value], [sheet['F6'].value], [sheet['G6'].value]])\n",
        "\n",
        "biasf1=sheet['B7'].value\n",
        "biasf2=sheet['C7'].value\n",
        "biasf3=sheet['D7'].value\n",
        "\n",
        "\n",
        "iterwf1=np.dot(htandxt, wf1)\n",
        "iterwf2=np.dot(htandxt, wf2)\n",
        "iterwf3=np.dot(htandxt, wf3)\n",
        "\n",
        "ft = np.array([iterwf1,iterwf2,iterwf3])\n",
        "ft = np.squeeze(ft)\n",
        "#print('Values for ft= ', ft)\n",
        "\n",
        "\n",
        "iterwfb1=np.dot(htandxt, wf1)+biasf1\n",
        "iterwfb2=np.dot(htandxt, wf2)+biasf2\n",
        "iterwfb3=np.dot(htandxt, wf3)+biasf3\n",
        "\n",
        "ftb = np.array([iterwfb1,iterwfb2,iterwfb3])\n",
        "ftb = np.squeeze(ftb)\n",
        "#print('Values for ft when bias is added are= ', ftb)\n",
        "\n",
        "fiterwf1=np.round(sig(iterwfb1))\n",
        "fiterwf2=np.round(sig(iterwfb2))\n",
        "fiterwf3=np.round(sig(iterwfb3))\n",
        "\n",
        "ftsig=np.array([fiterwf1,fiterwf2,fiterwf3])\n",
        "ftsig = np.squeeze(ftsig)\n",
        "print('Values for ft after sigmoid are = ', ftsig)\n",
        "\n",
        "\n",
        "\n"
      ]
    },
    {
      "cell_type": "code",
      "execution_count": null,
      "metadata": {
        "id": "D_50NMSL3qxG",
        "colab": {
          "base_uri": "https://localhost:8080/"
        },
        "outputId": "6569ee12-b6e6-4b01-a7d3-600b4e8566f4"
      },
      "outputs": [
        {
          "output_type": "stream",
          "name": "stdout",
          "text": [
            "Values for it after sigmoid are=  [1. 0. 1.]\n"
          ]
        }
      ],
      "source": [
        "\n",
        "#i gate\n",
        "\n",
        "wi1= np.array([[sheet['B8'].value], [sheet['C8'].value], [sheet['D8'].value], [sheet['E8'].value], [sheet['F8'].value], [sheet['G8'].value]])\n",
        "wi2= np.array([[sheet['B9'].value], [sheet['C9'].value], [sheet['D9'].value], [sheet['E9'].value], [sheet['F9'].value], [sheet['G9'].value]])\n",
        "wi3= np.array([[sheet['B10'].value], [sheet['C10'].value], [sheet['D10'].value], [sheet['E10'].value], [sheet['F10'].value], [sheet['G10'].value]])\n",
        "\n",
        "biasi1=sheet['B11'].value\n",
        "biasi2=sheet['C11'].value\n",
        "biasi3=sheet['D11'].value\n",
        "\n",
        "iterwi1= np.dot(htandxt, wi1)\n",
        "iterwi2= np.dot(htandxt, wi2)\n",
        "iterwi3= np.dot(htandxt, wi3)\n",
        "it = np.array([iterwi1,iterwi2,iterwi3])\n",
        "it = np.squeeze(it)\n",
        "#print('Values for it are = ', it)\n",
        "\n",
        "iterwib1= np.dot(htandxt, wi1)+biasi1\n",
        "iterwib2= np.dot(htandxt, wi2)+biasi2\n",
        "iterwib3= np.dot(htandxt, wi3)+biasi3\n",
        "itb = np.array([iterwib1,iterwib2,iterwib3])\n",
        "itb = np.squeeze(itb)\n",
        "#print('Values for it when bias is added are = ', itb)\n",
        "\n",
        "\n",
        "fiterwi1=np.round(sig(iterwib1))\n",
        "fiterwi2=np.round(sig(iterwib2))\n",
        "fiterwi3=np.round(sig(iterwib3))\n",
        "\n",
        "itsig = np.array([fiterwi1,fiterwi2,fiterwi3])\n",
        "itsig = np.squeeze(itsig)\n",
        "print('Values for it after sigmoid are= ', itsig)\n",
        "\n",
        "\n"
      ]
    },
    {
      "cell_type": "code",
      "source": [
        "# ctcap gate\n",
        "import math\n",
        "\n",
        "wc1= np.array([[sheet['B12'].value], [sheet['C12'].value], [sheet['D12'].value], [sheet['E12'].value], [sheet['F12'].value], [sheet['G12'].value]])\n",
        "wc2= np.array([[sheet['B13'].value], [sheet['C13'].value], [sheet['D13'].value], [sheet['E13'].value], [sheet['F13'].value], [sheet['G13'].value]])\n",
        "wc3= np.array([[sheet['B14'].value], [sheet['C14'].value], [sheet['D14'].value], [sheet['E14'].value], [sheet['F14'].value], [sheet['G14'].value]])\n",
        "\n",
        "biasc1=sheet['B15'].value\n",
        "biasc2=sheet['C15'].value\n",
        "biasc3=sheet['D15'].value\n",
        "\n",
        "iterwc1= np.dot(htandxt, wc1)\n",
        "iterwc2= np.dot(htandxt, wc2)\n",
        "iterwc3= np.dot(htandxt, wc3)\n",
        "ctcap = np.array([iterwc1,iterwc2,iterwc3])\n",
        "ctcap = np.squeeze(ctcap)\n",
        "#print('Values for Ct Cap = ', ctcap)\n",
        "\n",
        "iterwcb1= np.dot(htandxt, wc1)+biasc1\n",
        "iterwcb2= np.dot(htandxt, wc2)+biasc2\n",
        "iterwcb3= np.dot(htandxt, wc3)+biasc3\n",
        "ctcapb = np.array([iterwcb1,iterwcb2,iterwcb3])\n",
        "ctcapb = np.squeeze(ctcapb)\n",
        "#print('Values for Ct Cap with bias added are = ', ctcapb)\n",
        "\n",
        "\n",
        "fiterwc1=round(math.tanh(iterwcb1))\n",
        "fiterwc2=round(math.tanh(iterwcb2))\n",
        "fiterwc3=round(math.tanh(iterwcb3))\n",
        "ctcaptanh= np.array([fiterwc1,fiterwc2,fiterwc3])\n",
        "ctcaptanh = np.squeeze(ctcaptanh)\n",
        "print('Values for Ct Cap After Tanh is = ', ctcaptanh)\n"
      ],
      "metadata": {
        "colab": {
          "base_uri": "https://localhost:8080/"
        },
        "id": "Pk1ApxQ79crg",
        "outputId": "a3538331-3033-454b-ec6d-f0ecb6fd0a44"
      },
      "execution_count": null,
      "outputs": [
        {
          "output_type": "stream",
          "name": "stdout",
          "text": [
            "Values for Ct Cap After Tanh is =  [ 1  1 -1]\n"
          ]
        },
        {
          "output_type": "stream",
          "name": "stderr",
          "text": [
            "<ipython-input-197-88a0a04cb177>:27: DeprecationWarning: Conversion of an array with ndim > 0 to a scalar is deprecated, and will error in future. Ensure you extract a single element from your array before performing this operation. (Deprecated NumPy 1.25.)\n",
            "  fiterwc1=round(math.tanh(iterwcb1))\n",
            "<ipython-input-197-88a0a04cb177>:28: DeprecationWarning: Conversion of an array with ndim > 0 to a scalar is deprecated, and will error in future. Ensure you extract a single element from your array before performing this operation. (Deprecated NumPy 1.25.)\n",
            "  fiterwc2=round(math.tanh(iterwcb2))\n",
            "<ipython-input-197-88a0a04cb177>:29: DeprecationWarning: Conversion of an array with ndim > 0 to a scalar is deprecated, and will error in future. Ensure you extract a single element from your array before performing this operation. (Deprecated NumPy 1.25.)\n",
            "  fiterwc3=round(math.tanh(iterwcb3))\n"
          ]
        }
      ]
    },
    {
      "cell_type": "code",
      "source": [
        "#ct gate\n",
        "ctminus1=[[sheet['B1'].value],[sheet['C1'].value],[sheet['D1'].value]]\n",
        "ctminus1=np.array(ctminus1)\n",
        "ctminus1=np.squeeze(ctminus1)\n",
        "\n",
        "ct = np.multiply(ftsig,ctminus1)+np.multiply(itsig,ctcaptanh)\n",
        "print(\"Value for ct is = \", ct)"
      ],
      "metadata": {
        "colab": {
          "base_uri": "https://localhost:8080/"
        },
        "id": "keoS6_BeHtUt",
        "outputId": "740dab13-80e3-4a00-b18c-046e44d1403b"
      },
      "execution_count": null,
      "outputs": [
        {
          "output_type": "stream",
          "name": "stdout",
          "text": [
            "Value for ct is =  [ 6.  5. -1.]\n"
          ]
        }
      ]
    },
    {
      "cell_type": "code",
      "source": [
        "#output gate ot\n",
        "\n",
        "wo1= np.array([[sheet['B16'].value], [sheet['C16'].value], [sheet['D16'].value], [sheet['E16'].value], [sheet['F16'].value], [sheet['G16'].value]])\n",
        "wo2= np.array([[sheet['B17'].value], [sheet['C17'].value], [sheet['D17'].value], [sheet['E17'].value], [sheet['F17'].value], [sheet['G17'].value]])\n",
        "wo3= np.array([[sheet['B18'].value], [sheet['C18'].value], [sheet['D18'].value], [sheet['E18'].value], [sheet['F18'].value], [sheet['G18'].value]])\n",
        "\n",
        "biaso1=sheet['B19'].value\n",
        "biaso2=sheet['C19'].value\n",
        "biaso3=sheet['D19'].value\n",
        "\n",
        "iterwo1= np.dot(htandxt, wo1)\n",
        "iterwo2= np.dot(htandxt, wo2)\n",
        "iterwo3= np.dot(htandxt, wo3)\n",
        "\n",
        "ot = np.array([iterwo1,iterwo2,iterwo3])\n",
        "ot = np.squeeze(ot)\n",
        "#print('Values for ot are = ', ot)\n",
        "\n",
        "iterwob1= np.dot(htandxt, wo1)+biaso1\n",
        "iterwob2 = np.dot(htandxt, wo2)+biaso2\n",
        "iterwob3 = np.dot(htandxt, wo3)+biaso3\n",
        "otb = np.array([iterwob1, iterwob2, iterwob3])\n",
        "otb = np.squeeze(otb)\n",
        "#print('Values for ot with bias added are = ', otb)\n",
        "\n",
        "fiterob1 = np.round(sig(iterwob1))\n",
        "fiterob2 = np.round(sig(iterwob2))\n",
        "fiterob3 = np.round(sig(iterwob3))\n",
        "\n",
        "otsig = np.array([fiterob1, fiterob2, fiterob3])\n",
        "otsig = np.squeeze(otsig)\n",
        "print('Values for ot after sigmoid are = ', otsig)\n",
        "\n",
        "#here it should be 0 , 1 , 1 according to LSTM Slides\n"
      ],
      "metadata": {
        "colab": {
          "base_uri": "https://localhost:8080/"
        },
        "id": "kTvWnx2LUC3y",
        "outputId": "c77e7de0-ce03-4b1c-dd71-f1bc9b9b432d"
      },
      "execution_count": null,
      "outputs": [
        {
          "output_type": "stream",
          "name": "stdout",
          "text": [
            "Values for ot after sigmoid are =  [0. 0. 1.]\n"
          ]
        }
      ]
    },
    {
      "cell_type": "code",
      "source": [
        "#ht\n",
        "ct=np.tanh(ct)\n",
        "ht = np.multiply(ct,otsig)\n",
        "ht = np.round(ht)\n",
        "print(\"Value for HT is \", ht)"
      ],
      "metadata": {
        "colab": {
          "base_uri": "https://localhost:8080/"
        },
        "id": "i9C1-nZ-iCjC",
        "outputId": "a592f0ed-8b78-451e-d15f-387ab6e69876"
      },
      "execution_count": null,
      "outputs": [
        {
          "output_type": "stream",
          "name": "stdout",
          "text": [
            "Value for HT is  [ 0.  0. -1.]\n"
          ]
        }
      ]
    }
  ],
  "metadata": {
    "colab": {
      "provenance": []
    },
    "kernelspec": {
      "display_name": "Python 3",
      "name": "python3"
    },
    "language_info": {
      "name": "python"
    }
  },
  "nbformat": 4,
  "nbformat_minor": 0
}